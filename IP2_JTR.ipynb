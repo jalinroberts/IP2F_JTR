{
 "cells": [
  {
   "cell_type": "markdown",
   "id": "9fd90de7",
   "metadata": {},
   "source": [
    "# Programming Project 2 : DS-160-01\n",
    "## Jalin Roberts \n",
    "- January 19, 2023\n",
    "- Version0"
   ]
  },
  {
   "cell_type": "markdown",
   "id": "4517e811",
   "metadata": {},
   "source": [
    "### Question A - Create a 2-by-2 NumPy array with elements 10,20,30,40 in it."
   ]
  },
  {
   "cell_type": "code",
   "execution_count": 51,
   "id": "775d9951",
   "metadata": {},
   "outputs": [
    {
     "name": "stdout",
     "output_type": "stream",
     "text": [
      "[[10 20]\n",
      " [30 40]]\n"
     ]
    }
   ],
   "source": [
    "import numpy as np\n",
    "x = np.array([[10,20], [30,40]])\n",
    "print(x)"
   ]
  },
  {
   "cell_type": "markdown",
   "id": "b1c23089",
   "metadata": {},
   "source": [
    "### i. Square every element of the array."
   ]
  },
  {
   "cell_type": "code",
   "execution_count": 62,
   "id": "b1074c2a",
   "metadata": {},
   "outputs": [
    {
     "data": {
      "text/plain": [
       "array([[ 100,  400],\n",
       "       [ 900, 1600]])"
      ]
     },
     "execution_count": 62,
     "metadata": {},
     "output_type": "execute_result"
    }
   ],
   "source": [
    "np.square(x)"
   ]
  },
  {
   "cell_type": "markdown",
   "id": "7c97ba6f",
   "metadata": {},
   "source": [
    "### ii. Add 100 to every element of the array."
   ]
  },
  {
   "cell_type": "code",
   "execution_count": 54,
   "id": "fd5d364f",
   "metadata": {},
   "outputs": [
    {
     "data": {
      "text/plain": [
       "array([[110, 120],\n",
       "       [130, 140]])"
      ]
     },
     "execution_count": 54,
     "metadata": {},
     "output_type": "execute_result"
    }
   ],
   "source": [
    "np.add(x,100)"
   ]
  },
  {
   "cell_type": "markdown",
   "id": "a84830e5",
   "metadata": {},
   "source": [
    "### iii. Multiply every element of the array by 5."
   ]
  },
  {
   "cell_type": "code",
   "execution_count": 55,
   "id": "99fddcb9",
   "metadata": {},
   "outputs": [
    {
     "data": {
      "text/plain": [
       "array([[ 50, 100],\n",
       "       [150, 200]])"
      ]
     },
     "execution_count": 55,
     "metadata": {},
     "output_type": "execute_result"
    }
   ],
   "source": [
    "x * 5"
   ]
  },
  {
   "cell_type": "markdown",
   "id": "6e09f585",
   "metadata": {},
   "source": [
    "### iv. Calculate the square root of each element in the array."
   ]
  },
  {
   "cell_type": "code",
   "execution_count": 56,
   "id": "f86aa8ec",
   "metadata": {},
   "outputs": [
    {
     "data": {
      "text/plain": [
       "array([[3.16227766, 4.47213595],\n",
       "       [5.47722558, 6.32455532]])"
      ]
     },
     "execution_count": 56,
     "metadata": {},
     "output_type": "execute_result"
    }
   ],
   "source": [
    "np.sqrt(x)"
   ]
  },
  {
   "cell_type": "markdown",
   "id": "4673baaa",
   "metadata": {},
   "source": [
    "### Question B - Create a 3-by-3 array containing integers from 3 to 27 in multiples of 3."
   ]
  },
  {
   "cell_type": "code",
   "execution_count": 80,
   "id": "3f907698",
   "metadata": {},
   "outputs": [
    {
     "name": "stdout",
     "output_type": "stream",
     "text": [
      "[[ 3  6  9]\n",
      " [12 15 18]\n",
      " [21 24 27]]\n"
     ]
    }
   ],
   "source": [
    "import numpy as np\n",
    "x =  np.arange(3, 28, 3).reshape(3,3)\n",
    "print(x)\n"
   ]
  },
  {
   "cell_type": "markdown",
   "id": "fc26fb57",
   "metadata": {},
   "source": [
    "### Question B - Create a second 3-by-3 array with 9 elements evenly spaced between 10 and 20."
   ]
  },
  {
   "cell_type": "code",
   "execution_count": 90,
   "id": "30066112",
   "metadata": {},
   "outputs": [
    {
     "name": "stdout",
     "output_type": "stream",
     "text": [
      "[[10.   11.25 12.5 ]\n",
      " [13.75 15.   16.25]\n",
      " [17.5  18.75 20.  ]]\n"
     ]
    }
   ],
   "source": [
    "import numpy as np\n",
    "x1 = np.linspace(10,20,9).reshape(3,3)\n",
    "print(x1)"
   ]
  },
  {
   "cell_type": "markdown",
   "id": "172de8d5",
   "metadata": {},
   "source": [
    "### Question B - Multiply these arrays together and display the output."
   ]
  },
  {
   "cell_type": "code",
   "execution_count": 91,
   "id": "42b8040a",
   "metadata": {},
   "outputs": [
    {
     "data": {
      "text/plain": [
       "array([[ 30. ,  67.5, 112.5],\n",
       "       [165. , 225. , 292.5],\n",
       "       [367.5, 450. , 540. ]])"
      ]
     },
     "execution_count": 91,
     "metadata": {},
     "output_type": "execute_result"
    }
   ],
   "source": [
    "x * x1"
   ]
  },
  {
   "cell_type": "markdown",
   "id": "0299454f",
   "metadata": {},
   "source": [
    "### Question C - Read these files in and stack htem into a unified dataset."
   ]
  },
  {
   "cell_type": "code",
   "execution_count": 93,
   "id": "999b448a",
   "metadata": {},
   "outputs": [
    {
     "name": "stdout",
     "output_type": "stream",
     "text": [
      "[[52 12 81  0 58]\n",
      " [96  4 61 16 43]\n",
      " [38 96 45 17 58]\n",
      " [97 21 22 25  6]\n",
      " [77  6 19  2 74]]\n"
     ]
    }
   ],
   "source": [
    "import numpy as np\n",
    "array1=np.load(\"process1.npy\")\n",
    "array2=np.load(\"process2.npy\")\n",
    "array3=np.load(\"process3.npy\")\n",
    "array4=np.load(\"process4.npy\")\n",
    "array5=np.load(\"process5.npy\")\n",
    "array6=np.vstack ([array1,array2,array3,array4,array5])\n",
    "print(array6)"
   ]
  },
  {
   "cell_type": "markdown",
   "id": "be55c09d",
   "metadata": {},
   "source": [
    "### Question C - Calculate the mean of each column of data."
   ]
  },
  {
   "cell_type": "code",
   "execution_count": 13,
   "id": "14bdd1f3",
   "metadata": {},
   "outputs": [
    {
     "name": "stdout",
     "output_type": "stream",
     "text": [
      "The mean for this array is : [72.  27.8 45.6 12.  47.8]\n"
     ]
    }
   ],
   "source": [
    "print(\"The mean for this array is :\",np.mean(array6, axis=0))\n"
   ]
  },
  {
   "cell_type": "code",
   "execution_count": 14,
   "id": "50159e19",
   "metadata": {},
   "outputs": [
    {
     "data": {
      "text/plain": [
       "47.8"
      ]
     },
     "execution_count": 14,
     "metadata": {},
     "output_type": "execute_result"
    }
   ],
   "source": [
    "(58+43+58+6+74)/5"
   ]
  }
 ],
 "metadata": {
  "kernelspec": {
   "display_name": "Python 3 (ipykernel)",
   "language": "python",
   "name": "python3"
  },
  "language_info": {
   "codemirror_mode": {
    "name": "ipython",
    "version": 3
   },
   "file_extension": ".py",
   "mimetype": "text/x-python",
   "name": "python",
   "nbconvert_exporter": "python",
   "pygments_lexer": "ipython3",
   "version": "3.9.13"
  }
 },
 "nbformat": 4,
 "nbformat_minor": 5
}
